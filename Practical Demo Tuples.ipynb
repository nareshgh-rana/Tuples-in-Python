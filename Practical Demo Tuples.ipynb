{
 "cells": [
  {
   "cell_type": "code",
   "execution_count": null,
   "metadata": {},
   "outputs": [],
   "source": [
    "#Demo Practical Tuples in Python:\n",
    "#By: Naresh K Rana PGT CS\n",
    "#K V Alhilal Cantt\n",
    "# For Updates visit at https://cslearneasy.blogspot.com/p/home.html \n"
   ]
  },
  {
   "cell_type": "code",
   "execution_count": 4,
   "metadata": {},
   "outputs": [
    {
     "name": "stdout",
     "output_type": "stream",
     "text": [
      "()\n"
     ]
    }
   ],
   "source": [
    "#the empty tuple\n",
    "t=tuple()\n",
    "print(t)"
   ]
  },
  {
   "cell_type": "code",
   "execution_count": 5,
   "metadata": {},
   "outputs": [
    {
     "name": "stdout",
     "output_type": "stream",
     "text": [
      "1\n",
      "1\n",
      "(2,)\n"
     ]
    }
   ],
   "source": [
    "#single element tuple\n",
    "t=1\n",
    "print(t)\n",
    "t=(1)\n",
    "print(t)\n",
    "t=(2,)\n",
    "print(t)"
   ]
  },
  {
   "cell_type": "code",
   "execution_count": 7,
   "metadata": {},
   "outputs": [
    {
     "name": "stdout",
     "output_type": "stream",
     "text": [
      "(1, 2, 4, 16, 32, 64, 128, 256)\n"
     ]
    }
   ],
   "source": [
    "#creating long tuples\n",
    "a=(1,2,4,16,32,64,128,256)\n",
    "print(a)\n"
   ]
  },
  {
   "cell_type": "code",
   "execution_count": 8,
   "metadata": {},
   "outputs": [
    {
     "name": "stdout",
     "output_type": "stream",
     "text": [
      "(1, 2, (5, 6, 7))\n"
     ]
    }
   ],
   "source": [
    "#Nested Tuples\n",
    "t=(1,2,(5,6,7))\n",
    "print(t)"
   ]
  },
  {
   "cell_type": "code",
   "execution_count": 11,
   "metadata": {},
   "outputs": [
    {
     "name": "stdout",
     "output_type": "stream",
     "text": [
      "(10, 20, 30, 50, 77)\n",
      "t[0]: 10\n",
      "t[3]: 50\n",
      "t[-1]: 77\n",
      "t[4]: 77\n",
      "t[-5]: 10\n"
     ]
    }
   ],
   "source": [
    "#Traversal/Accessing of a tuple.\n",
    "t=(10,20,30,50,77)\n",
    "print(t)\n",
    "print('t[0]:',t[0])\n",
    "print('t[3]:',t[3])\n",
    "print('t[-1]:',t[-1])\n",
    "print('t[4]:',t[4])\n",
    "print('t[-5]:',t[-5])"
   ]
  },
  {
   "cell_type": "code",
   "execution_count": 13,
   "metadata": {},
   "outputs": [
    {
     "ename": "TypeError",
     "evalue": "'tuple' object does not support item assignment",
     "output_type": "error",
     "traceback": [
      "\u001b[1;31m---------------------------------------------------------------------------\u001b[0m",
      "\u001b[1;31mTypeError\u001b[0m                                 Traceback (most recent call last)",
      "\u001b[1;32m<ipython-input-13-aa0b4a4a8de8>\u001b[0m in \u001b[0;36m<module>\u001b[1;34m\u001b[0m\n\u001b[0;32m      1\u001b[0m \u001b[1;31m#Tuple is Immutable\u001b[0m\u001b[1;33m\u001b[0m\u001b[1;33m\u001b[0m\u001b[1;33m\u001b[0m\u001b[0m\n\u001b[0;32m      2\u001b[0m \u001b[0mt1\u001b[0m\u001b[1;33m=\u001b[0m\u001b[1;33m(\u001b[0m\u001b[1;36m2\u001b[0m\u001b[1;33m,\u001b[0m\u001b[1;36m4\u001b[0m\u001b[1;33m,\u001b[0m\u001b[1;36m6\u001b[0m\u001b[1;33m,\u001b[0m\u001b[1;36m8\u001b[0m\u001b[1;33m,\u001b[0m\u001b[1;36m10\u001b[0m\u001b[1;33m)\u001b[0m\u001b[1;33m\u001b[0m\u001b[1;33m\u001b[0m\u001b[0m\n\u001b[1;32m----> 3\u001b[1;33m \u001b[0mt1\u001b[0m\u001b[1;33m[\u001b[0m\u001b[1;36m2\u001b[0m\u001b[1;33m]\u001b[0m\u001b[1;33m=\u001b[0m\u001b[1;36m10\u001b[0m\u001b[1;33m\u001b[0m\u001b[1;33m\u001b[0m\u001b[0m\n\u001b[0m\u001b[0;32m      4\u001b[0m \u001b[0mprint\u001b[0m\u001b[1;33m(\u001b[0m\u001b[0mt1\u001b[0m\u001b[1;33m)\u001b[0m\u001b[1;33m\u001b[0m\u001b[1;33m\u001b[0m\u001b[0m\n",
      "\u001b[1;31mTypeError\u001b[0m: 'tuple' object does not support item assignment"
     ]
    }
   ],
   "source": [
    "#Tuple is Immutable \n",
    "t1=(2,4,6,8,10)\n",
    "t1[2]=10\n",
    "print(t1)\n"
   ]
  },
  {
   "cell_type": "code",
   "execution_count": 14,
   "metadata": {},
   "outputs": [
    {
     "name": "stdout",
     "output_type": "stream",
     "text": [
      "(1, 3, 5, 7, 9, 2, 4, 6, 8, 10)\n"
     ]
    }
   ],
   "source": [
    "#concatenates two tuples\n",
    "t1 = (1,3,5,7,9)\n",
    "t2 = (2,4,6,8,10)\n",
    "t3=t1 + t2\n",
    "print(t3)"
   ]
  },
  {
   "cell_type": "code",
   "execution_count": 1,
   "metadata": {},
   "outputs": [
    {
     "name": "stdout",
     "output_type": "stream",
     "text": [
      "('Class XI', 'CS', 'Python', 'Tuple')\n"
     ]
    }
   ],
   "source": [
    "#concatenates two tuples using string element\n",
    "t1 = (\"Class XI\",\"CS\")\n",
    "t2 = (\"Python\",\"Tuple\")\n",
    "t3=t1 + t2\n",
    "print(t3)"
   ]
  },
  {
   "cell_type": "code",
   "execution_count": 3,
   "metadata": {},
   "outputs": [
    {
     "name": "stdout",
     "output_type": "stream",
     "text": [
      "(11, 12, 13, 14, 15, 16, 17)\n"
     ]
    }
   ],
   "source": [
    "# use of Concatenation operator  for extending an existing tuple. \n",
    "t4=(11,12,13,14,15)\n",
    "t5=t4+(16,17,)\n",
    "print(t5)"
   ]
  },
  {
   "cell_type": "code",
   "execution_count": 4,
   "metadata": {},
   "outputs": [
    {
     "name": "stdout",
     "output_type": "stream",
     "text": [
      "('Hello', 'World', 'Hello', 'World', 'Hello', 'World')\n"
     ]
    }
   ],
   "source": [
    "#Repitition of tuple\n",
    "tuple1 = ('Hello','World')\n",
    "t2= tuple1 * 3\n",
    "print(t2)"
   ]
  },
  {
   "cell_type": "code",
   "execution_count": 7,
   "metadata": {},
   "outputs": [
    {
     "name": "stdout",
     "output_type": "stream",
     "text": [
      "('*', '*', '*', '*', '*', '*', '*', '*', '*', '*')\n"
     ]
    }
   ],
   "source": [
    "#Repitition of tuple\n",
    "tuple1 = ('*',)\n",
    "t2= tuple1 * 10\n",
    "print(t2)"
   ]
  },
  {
   "cell_type": "code",
   "execution_count": 8,
   "metadata": {},
   "outputs": [
    {
     "name": "stdout",
     "output_type": "stream",
     "text": [
      "True\n"
     ]
    }
   ],
   "source": [
    "#membership operator\n",
    "tuple1 = ('Red','Green','Blue')\n",
    "t2= 'Green' in tuple1\n",
    "print(t2)\n"
   ]
  },
  {
   "cell_type": "code",
   "execution_count": 9,
   "metadata": {},
   "outputs": [
    {
     "name": "stdout",
     "output_type": "stream",
     "text": [
      "(30, 40, 50, 60)\n",
      "(10, 20, 30, 40, 50, 60, 70, 80)\n",
      "(10, 20, 30, 40, 50)\n",
      "(10, 30, 50, 70)\n"
     ]
    }
   ],
   "source": [
    "#Slicing in Tuples\n",
    "t1 = (10,20,30,40,50,60,70,80)\n",
    "t2=t1[2:6]\n",
    "print (t2)\n",
    "t3=t1[0:len(t1)]\n",
    "print (t3)\n",
    "t4=t1[:5]\n",
    "print(t4)\n",
    "t5=t1[::2]\n",
    "print(t5)"
   ]
  },
  {
   "cell_type": "code",
   "execution_count": 10,
   "metadata": {},
   "outputs": [
    {
     "name": "stdout",
     "output_type": "stream",
     "text": [
      "5\n"
     ]
    }
   ],
   "source": [
    "#Tuple Methods and Built-In Functions -len()\n",
    "t=(12,34,67,89,10)\n",
    "print(len(t))"
   ]
  },
  {
   "cell_type": "code",
   "execution_count": 11,
   "metadata": {},
   "outputs": [
    {
     "name": "stdout",
     "output_type": "stream",
     "text": [
      "()\n"
     ]
    }
   ],
   "source": [
    "#Tuple Methods and Built-In Functions -tuple()\n",
    "tuple1 = tuple()\n",
    "print(tuple1)"
   ]
  },
  {
   "cell_type": "code",
   "execution_count": 13,
   "metadata": {},
   "outputs": [
    {
     "name": "stdout",
     "output_type": "stream",
     "text": [
      "3\n",
      "1\n"
     ]
    }
   ],
   "source": [
    "#Tuple Methods and Built-In Functions -count()\n",
    "tuple1 = (10,20,30,10,40,10,50)\n",
    "print(tuple1.count(10))\n",
    "print(tuple1.count(30))\n"
   ]
  },
  {
   "cell_type": "code",
   "execution_count": 15,
   "metadata": {},
   "outputs": [
    {
     "name": "stdout",
     "output_type": "stream",
     "text": [
      "4\n",
      "2\n"
     ]
    }
   ],
   "source": [
    "#Tuple Methods and Built-In Functions -index()\n",
    "tuple1 = (10,20,30,10,40,10,50)\n",
    "print(tuple1.index(40))\n",
    "print(tuple1.index(30))"
   ]
  },
  {
   "cell_type": "code",
   "execution_count": 19,
   "metadata": {},
   "outputs": [
    {
     "name": "stdout",
     "output_type": "stream",
     "text": [
      "['Aditya', 'Heena', 'Mohsin', 'Raj', 'Rama']\n"
     ]
    }
   ],
   "source": [
    "#Tuple Methods and Built-In Functions -sorted()\n",
    "tuple1 = (\"Rama\",\"Heena\",\"Raj\",\"Mohsin\",\"Aditya\")\n",
    "print(sorted(tuple1))"
   ]
  },
  {
   "cell_type": "code",
   "execution_count": 20,
   "metadata": {},
   "outputs": [
    {
     "name": "stdout",
     "output_type": "stream",
     "text": [
      "12\n",
      "543\n",
      "987\n"
     ]
    }
   ],
   "source": [
    "#Tuple Methods and Built-In Functions -min(),max(),sum()\n",
    "t=(12,45,78,234,543,75)\n",
    "print(min(t))\n",
    "print(max(t))\n",
    "print(sum(t))"
   ]
  },
  {
   "cell_type": "code",
   "execution_count": 27,
   "metadata": {},
   "outputs": [
    {
     "name": "stdout",
     "output_type": "stream",
     "text": [
      "How many numbers you want to enter?: 5\n",
      "34\n",
      "23\n",
      "11\n",
      "45\n",
      "6\n",
      "\n",
      "The numbers in the tuple are:\n",
      "(34, 23, 11, 45, 6)\n",
      "\n",
      "The sorted numbers in the tuple are:\n",
      "[6, 11, 23, 34, 45]\n",
      "\n",
      "The maximum number is:\n",
      "45\n",
      "The minimum number is:\n",
      "6\n",
      "The mean is:\n",
      "23.8\n"
     ]
    }
   ],
   "source": [
    "#Program to input n numbers from the user. Store these numbers\n",
    "#in a tuple. Print the maximum, minimum number and mean number from this tuple.\n",
    "numbers = tuple() #create an empty tuple 'numbers'\n",
    "import statistics \n",
    "n = int(input(\"How many numbers you want to enter?: \"))\n",
    "for i in range(0,n):\n",
    "    num = int(input())\n",
    "#it will assign numbers entered by user to tuple 'numbers'\n",
    "    numbers = numbers +(num,)\n",
    "print('\\nThe numbers in the tuple are:')\n",
    "print(numbers)\n",
    "print('\\nThe sorted numbers in the tuple are:')\n",
    "print(sorted(numbers))\n",
    "print(\"\\nThe maximum number is:\")\n",
    "print(max(numbers))\n",
    "print(\"The minimum number is:\")\n",
    "print(min(numbers))\n",
    "print(\"The mean is:\")\n",
    "print(statistics.mean(numbers))\n"
   ]
  },
  {
   "cell_type": "code",
   "execution_count": 35,
   "metadata": {},
   "outputs": [
    {
     "name": "stdout",
     "output_type": "stream",
     "text": [
      "How many numbers you want to enter?: 5\n",
      "12\n",
      "13\n",
      "12\n",
      "14\n",
      "12\n",
      "\n",
      "The numbers in the tuple are:\n",
      "(12, 13, 12, 14, 12)\n",
      "Enter the number you want to count frequency  in the tuple:12\n",
      "The  Frequency of number 12 in the tuple is: 3\n"
     ]
    }
   ],
   "source": [
    "#Program to counting the frequency of elements in a tuple..\n",
    "numbers = tuple() #create an empty tuple 'numbers'\n",
    "n = int(input(\"How many numbers you want to enter?: \"))\n",
    "for i in range(0,n):\n",
    "    num = int(input())\n",
    "#it will assign numbers entered by user to tuple 'numbers'\n",
    "    numbers = numbers +(num,)\n",
    "print('\\nThe numbers in the tuple are:')\n",
    "print(numbers)\n",
    "n1=int(input(\"Enter the number you want to count frequency  in the tuple:\"))\n",
    "c1=numbers.count(n1)# it will count the frequency  of  number in the tuple\n",
    "print(\"The  Frequency of number\",n1,\"in the tuple is:\",c1)"
   ]
  },
  {
   "cell_type": "markdown",
   "metadata": {},
   "source": []
  }
 ],
 "metadata": {
  "kernelspec": {
   "display_name": "Python 3",
   "language": "python",
   "name": "python3"
  },
  "language_info": {
   "codemirror_mode": {
    "name": "ipython",
    "version": 3
   },
   "file_extension": ".py",
   "mimetype": "text/x-python",
   "name": "python",
   "nbconvert_exporter": "python",
   "pygments_lexer": "ipython3",
   "version": "3.7.3"
  }
 },
 "nbformat": 4,
 "nbformat_minor": 2
}
